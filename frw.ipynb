{
 "cells": [
  {
   "cell_type": "markdown",
   "metadata": {},
   "source": [
    "# Flow rate waveform transformation\n",
    "\n",
    "Arjan Geers\n",
    "\n",
    "An artery's flow rate waveform (FRW) can be characterized in many ways. Three common descriptors are the heart rate (HR), pulsatility index (PI), and time-averaged flow rate (QTA). In this notebook, a FRW is linearly transformed to generate new FRWs with specified values for these descriptors.\n",
    "\n",
    "In [this work](http://dx.doi.org/10.1016/j.jbiomech.2013.09.033), we used FRW transformation to test how each descriptor in isolation affects the hemodynamics:\n",
    "\n",
    "Geers AJ, Larrabide I, Morales HG, Frangi AF. Approximating hemodynamics of cerebral aneurysms with steady flow simulations. Journal of Biomechanics, 47(1):178–185, 2014."
   ]
  },
  {
   "cell_type": "markdown",
   "metadata": {},
   "source": [
    "## Preamble"
   ]
  },
  {
   "cell_type": "code",
   "execution_count": null,
   "metadata": {},
   "outputs": [],
   "source": [
    "import os\n",
    "import numpy as np\n",
    "import pandas as pd\n",
    "import matplotlib.pyplot as plt\n",
    "from ipywidgets import interact, IntSlider, FloatSlider"
   ]
  },
  {
   "cell_type": "code",
   "execution_count": null,
   "metadata": {},
   "outputs": [],
   "source": [
    "%matplotlib inline"
   ]
  },
  {
   "cell_type": "markdown",
   "metadata": {},
   "source": [
    "## Data"
   ]
  },
  {
   "cell_type": "markdown",
   "metadata": {},
   "source": [
    "We start by reading the FRW of a healthy volunteer's internal carotid artery (ICA). This data was acquired with PC-MRA by Cebral et al. as part of [this study](http://dx.doi.org/10.1023/B:ENGI.0000007977.02652.02).\n",
    "\n",
    "The 99 unique flow rate values (in ml/s) are uniformly distributed in time. Corresponding time values will be added during the transformation to account for the heart rate."
   ]
  },
  {
   "cell_type": "code",
   "execution_count": null,
   "metadata": {},
   "outputs": [],
   "source": [
    "frw = pd.read_csv(os.path.join('data', 'frw.csv'))"
   ]
  },
  {
   "cell_type": "code",
   "execution_count": null,
   "metadata": {},
   "outputs": [],
   "source": [
    "pd.set_option('display.max_rows', 10)\n",
    "frw"
   ]
  },
  {
   "cell_type": "markdown",
   "metadata": {},
   "source": [
    "The physiological ranges over which to vary the FRW descriptors are defined as follows: "
   ]
  },
  {
   "cell_type": "code",
   "execution_count": null,
   "metadata": {},
   "outputs": [],
   "source": [
    "def qcebral(radius=2e-3):\n",
    "    \"\"\"Use relationship from Cebral et al. Physiol Meas, 2008,\n",
    "    to return a flow rate in ml/s for a given radius in meters.\n",
    "    \n",
    "    \"\"\" \n",
    "    area = np.pi * radius**2\n",
    "    return 48.21 * (1e4 * area)**1.84\n",
    "\n",
    "frw_descriptors = pd.DataFrame(index=['lower',\n",
    "                                      'baseline',\n",
    "                                      'upper'], \n",
    "                               columns=['HR (bpm)',\n",
    "                                        'PI (-)',\n",
    "                                        'QTA (ml/s)'])\n",
    "\n",
    "frw_descriptors['HR (bpm)'] = [52, 68, 84]\n",
    "frw_descriptors['PI (-)'] = [0.58, 0.92, 1.26]\n",
    "frw_descriptors['QTA (ml/s)'] = [0.73*qcebral(), qcebral(), 1.27*qcebral()]\n",
    "frw_descriptors"
   ]
  },
  {
   "cell_type": "markdown",
   "metadata": {},
   "source": [
    "This dataframe corresponds to Table 1 of [our paper](http://dx.doi.org/10.1016/j.jbiomech.2013.09.033).\n",
    "\n",
    "For HR and PI, the three values are defined as:\n",
    "* baseline = mean\n",
    "* lower = mean - 2 SD\n",
    "* upper = mean + 2 SD\n",
    "\n",
    "where the mean and standard deviation (SD) are taken from [Ford et al.](http://dx.doi.org/10.1088/0967-3334/26/4/013) and [Hoi et al.](http://dx.doi.org/10.1088/0967-3334/31/3/002).\n",
    "\n",
    "Values for QTA were derived from another [paper](http://dx.doi.org/10.1088/0967-3334/29/5/005) by Cebral et al. in which they experimentally determined the relationship between the cross sectional area and time-averaged flow rate of ICAs and vertebral arteries (VAs):\n",
    "\n",
    "\\begin{equation}\n",
    "  \\textrm{Qcebral} = 48.21 \\, A^{1.84}\n",
    "\\end{equation}\n",
    "\n",
    "where A is the cross sectional area in cm$^2$ and Qcebral is in ml/s.\n",
    "\n",
    "Qcebral was taken as baseline value for QTA. The lower and upper values were 27% below and above the baseline, respectively. The 27% variation is the average relative error between prediction and measurement, derived from Cebral et al.'s paper.\n",
    "\n",
    "To get some actual QTA values to work with, we assume an artery with a circular cross section and a radius of 2 mm, which is about the size of an ICA."
   ]
  },
  {
   "cell_type": "markdown",
   "metadata": {},
   "source": [
    "## Transformation"
   ]
  },
  {
   "cell_type": "markdown",
   "metadata": {},
   "source": [
    "Following Eq. 1 of our paper, the FRW transformation from $\\textrm{Q}^0(t)$ to $\\textrm{Q}(t)$ is given by:\n",
    "\n",
    "\\begin{equation}\n",
    "  \\textrm{Q}(t) = a \\, \\textrm{Q}^0(c t) + b\n",
    "\\end{equation}\n",
    "\n",
    "where\n",
    "\n",
    "\\begin{equation}\n",
    "  a = \\frac{\\textrm{QTA}}{\\textrm{QTA}^0} \\frac{\\textrm{PI}}{\\textrm{PI}^0},%\n",
    "  \\qquad b = \\textrm{QTA} \\left(1 - \\frac{\\textrm{PI}}{\\textrm{PI}^0}\\right),%\n",
    "  \\qquad c = \\frac{\\textrm{HR}}{\\textrm{HR}^0}\n",
    "\\end{equation}\n",
    "\n",
    "We implement this as `transform_frw`, which takes as input:\n",
    "* `frw_in`, i.e. $\\textrm{Q}^0(t)$\n",
    "* `hr_out`, i.e. $\\textrm{HR}$\n",
    "* `pi_out`, i.e. $\\textrm{PI}$\n",
    "* `qta_out`, i.e. $\\textrm{QTA}$"
   ]
  },
  {
   "cell_type": "code",
   "execution_count": null,
   "metadata": {},
   "outputs": [],
   "source": [
    "def transform_frw(frw_in, hr_out, pi_out, qta_out):\n",
    "    \"\"\"Linearly transform a flow rate waveform (frw_in) to generate one with\n",
    "    specified heart rate (hr_out), pulsatility index (pi_out), and\n",
    "    time-averaged flow rate (qta_out).\n",
    "    \n",
    "    The input flow rate waveform is a pandas DataFrame with a single column of\n",
    "    unique flow rate values uniformly distributed in time.\n",
    "    \n",
    "    The output flow rate waveform is a pandas DataFrame with a time and a flow\n",
    "    rate column.\n",
    "    \n",
    "    ----------------------------------------------------------------------------   \n",
    "    Time-averaged values are calculated by numerical integration using the\n",
    "    trapezoidal rule.\n",
    "\n",
    "    T is period\n",
    "    var[t] is variable as function of time\n",
    "    n is number of trapezoid areas\n",
    "    h = T/n is width of each trapezoid\n",
    "    varta = time-averaged value of variable\n",
    "\n",
    "    varta = 1/T * Integrate[var[t], {t, 0, T}]\n",
    "          = 1/T * h * (0.5*var[t_0] + var[t_1] + ... + 0.5*var[t_n])\n",
    "          = 1/n * (0.5*var[t_0] + var[t_1] + ... + 0.5*var[t_n])\n",
    "          = 1/n * (var[t_0] + ... + var[t_n-1])\n",
    "          = mean(var[t_0], ..., var[t_n-1])\n",
    "          \n",
    "    In the last step, we used the property of a periodic function that\n",
    "    var[t_0] = var[t_n].\n",
    "    ----------------------------------------------------------------------------\n",
    "    \n",
    "    \"\"\"\n",
    "    hr_in = 60\n",
    "    qta_in = np.mean(frw_in)\n",
    "    pi_in = (np.amax(frw_in) - np.amin(frw_in)) / qta_in\n",
    "\n",
    "    qta_ratio = qta_out / qta_in\n",
    "    pi_ratio = pi_out / pi_in\n",
    "    hr_ratio = hr_out / hr_in\n",
    "    \n",
    "    a = qta_ratio * pi_ratio\n",
    "    b = qta_out * (1 - pi_ratio)\n",
    "    c = hr_ratio  # inverse of cardiac period \n",
    "    \n",
    "    frw_out = a * frw_in + b\n",
    "    \n",
    "    numberoftimesteps = len(frw_out)\n",
    "    t = [timestep / (c * numberoftimesteps) for timestep in range(numberoftimesteps)]\n",
    "    frw_out.insert(0, 'time (s)', pd.Series(t))\n",
    "    \n",
    "    return frw_out"
   ]
  },
  {
   "cell_type": "markdown",
   "metadata": {},
   "source": [
    "## Interactive plot"
   ]
  },
  {
   "cell_type": "markdown",
   "metadata": {},
   "source": [
    "To demo how the three descriptors change the shape of the FRW, we plot the transformed FRW and provide sliders to interactively adjust the descriptor values."
   ]
  },
  {
   "cell_type": "code",
   "execution_count": null,
   "metadata": {},
   "outputs": [],
   "source": [
    "def plot_frw(hr_out, pi_out, q_out):\n",
    "    frw_out = transform_frw(frw, hr_out, pi_out, q_out)\n",
    "    frw_baseline = transform_frw(frw, *frw_descriptors.loc['baseline'].tolist())\n",
    "    fig, ax = plt.subplots()\n",
    "    ax.plot(frw_out['time (s)'], frw_out['flowrate (ml/s)'], c='black', lw=2, )\n",
    "    ax.plot(frw_baseline['time (s)'], frw_baseline['flowrate (ml/s)'], c='black', ls=':', lw=2, )\n",
    "    ax.set_xlabel('Time (s)', fontsize=18)\n",
    "    ax.set_ylabel('Flow rate (ml/s)', fontsize=18)\n",
    "    ax.set_xlim(0, 1)\n",
    "    ax.set_ylim(0, 2)\n",
    "    ax.tick_params(axis='both', which='major', labelsize=14)\n",
    "    plt.show()"
   ]
  },
  {
   "cell_type": "code",
   "execution_count": null,
   "metadata": {},
   "outputs": [],
   "source": [
    "hr_slider = IntSlider(description='HR (bpm)',\n",
    "                      value=frw_descriptors['HR (bpm)']['baseline'],\n",
    "                      min=frw_descriptors['HR (bpm)']['lower'],\n",
    "                      max=frw_descriptors['HR (bpm)']['upper'],\n",
    "                      step=1)\n",
    "pi_slider = FloatSlider(description='PI (-)',\n",
    "                        value=frw_descriptors['PI (-)']['baseline'],\n",
    "                        min=frw_descriptors['PI (-)']['lower'],\n",
    "                        max=frw_descriptors['PI (-)']['upper'],\n",
    "                        step=0.01)\n",
    "q_slider = FloatSlider(description='QTA (ml/s)',\n",
    "                       value=round(frw_descriptors['QTA (ml/s)']['baseline'], 2),\n",
    "                       min=round(frw_descriptors['QTA (ml/s)']['lower'], 2),\n",
    "                       max=round(frw_descriptors['QTA (ml/s)']['upper'], 2),\n",
    "                       step=0.01)\n",
    "interact(plot_frw, hr_out=hr_slider, pi_out=pi_slider, q_out=q_slider);"
   ]
  },
  {
   "cell_type": "code",
   "execution_count": null,
   "metadata": {},
   "outputs": [],
   "source": []
  }
 ],
 "metadata": {
  "kernelspec": {
   "display_name": "Python 3",
   "language": "python",
   "name": "python3"
  },
  "language_info": {
   "codemirror_mode": {
    "name": "ipython",
    "version": 3
   },
   "file_extension": ".py",
   "mimetype": "text/x-python",
   "name": "python",
   "nbconvert_exporter": "python",
   "pygments_lexer": "ipython3",
   "version": "3.7.3"
  },
  "widgets": {
   "application/vnd.jupyter.widget-state+json": {
    "state": {
     "118f971b6ff54e91b87cb0f999da8bba": {
      "model_module": "jupyter-js-widgets",
      "model_module_version": "~2.1.4",
      "model_name": "LayoutModel",
      "state": {
       "_model_module_version": "~2.1.4",
       "_view_module_version": "~2.1.4"
      }
     },
     "199c94b46277497996adc7d0cc6748f1": {
      "model_module": "jupyter-js-widgets",
      "model_module_version": "~2.1.4",
      "model_name": "SliderStyleModel",
      "state": {
       "_model_module_version": "~2.1.4",
       "_view_module_version": "~2.1.4"
      }
     },
     "22bde0b5fc1d4d0d813ab62ba4ba24a3": {
      "model_module": "jupyter-js-widgets",
      "model_module_version": "~2.1.4",
      "model_name": "LayoutModel",
      "state": {
       "_model_module_version": "~2.1.4",
       "_view_module_version": "~2.1.4"
      }
     },
     "3613ae7ca2f24b91a231c5902722418c": {
      "model_module": "jupyter-js-widgets",
      "model_module_version": "~2.1.4",
      "model_name": "IntSliderModel",
      "state": {
       "_model_module_version": "~2.1.4",
       "_view_module_version": "~2.1.4",
       "description": "HR (bpm)",
       "layout": "IPY_MODEL_5b13e5fbdc0c4ca99a5de15389853e53",
       "max": 84,
       "min": 52,
       "style": "IPY_MODEL_199c94b46277497996adc7d0cc6748f1",
       "value": 68
      }
     },
     "5ad0b3a66cfe483a87a432887d359276": {
      "model_module": "jupyter-js-widgets",
      "model_module_version": "~2.1.4",
      "model_name": "LayoutModel",
      "state": {
       "_model_module_version": "~2.1.4",
       "_view_module_version": "~2.1.4"
      }
     },
     "5b13e5fbdc0c4ca99a5de15389853e53": {
      "model_module": "jupyter-js-widgets",
      "model_module_version": "~2.1.4",
      "model_name": "LayoutModel",
      "state": {
       "_model_module_version": "~2.1.4",
       "_view_module_version": "~2.1.4"
      }
     },
     "6c06751af5554f8eafb9d21151a4d188": {
      "model_module": "jupyter-js-widgets",
      "model_module_version": "~2.1.4",
      "model_name": "LayoutModel",
      "state": {
       "_model_module_version": "~2.1.4",
       "_view_module_version": "~2.1.4"
      }
     },
     "99162282931b4d30bcf9068bfc8f884f": {
      "model_module": "jupyter-js-widgets",
      "model_module_version": "~2.1.4",
      "model_name": "VBoxModel",
      "state": {
       "_dom_classes": [
        "widget-interact"
       ],
       "_model_module_version": "~2.1.4",
       "_view_module_version": "~2.1.4",
       "children": [
        "IPY_MODEL_3613ae7ca2f24b91a231c5902722418c",
        "IPY_MODEL_a5a6caee4e9644cd81c5884a26beeccb",
        "IPY_MODEL_ed3d57b47511490f9ab0ecaa780746da",
        "IPY_MODEL_e9c33102f5334ce788dbe8eeaa66a0fa"
       ],
       "layout": "IPY_MODEL_5ad0b3a66cfe483a87a432887d359276"
      }
     },
     "a5a6caee4e9644cd81c5884a26beeccb": {
      "model_module": "jupyter-js-widgets",
      "model_module_version": "~2.1.4",
      "model_name": "FloatSliderModel",
      "state": {
       "_model_module_version": "~2.1.4",
       "_view_module_version": "~2.1.4",
       "description": "PI (-)",
       "layout": "IPY_MODEL_22bde0b5fc1d4d0d813ab62ba4ba24a3",
       "max": 1.26,
       "min": 0.58,
       "step": 0.01,
       "value": 0.92
      }
     },
     "e9c33102f5334ce788dbe8eeaa66a0fa": {
      "model_module": "jupyter-js-widgets",
      "model_module_version": "~2.1.4",
      "model_name": "OutputModel",
      "state": {
       "_dom_classes": [],
       "_model_module": "jupyter-js-widgets",
       "_model_module_version": "~2.1.4",
       "_view_module": "jupyter-js-widgets",
       "_view_module_version": "~2.1.4",
       "layout": "IPY_MODEL_6c06751af5554f8eafb9d21151a4d188",
       "msg_throttle": 1
      }
     },
     "ed3d57b47511490f9ab0ecaa780746da": {
      "model_module": "jupyter-js-widgets",
      "model_module_version": "~2.1.4",
      "model_name": "FloatSliderModel",
      "state": {
       "_model_module_version": "~2.1.4",
       "_view_module_version": "~2.1.4",
       "description": "QTA (ml/s)",
       "layout": "IPY_MODEL_118f971b6ff54e91b87cb0f999da8bba",
       "max": 1.35,
       "min": 0.77,
       "step": 0.01,
       "value": 1.06
      }
     }
    },
    "version_major": 1,
    "version_minor": 0
   }
  }
 },
 "nbformat": 4,
 "nbformat_minor": 1
}
